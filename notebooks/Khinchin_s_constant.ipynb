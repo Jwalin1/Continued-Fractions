{
 "cells": [
  {
   "cell_type": "markdown",
   "metadata": {
    "id": "4-DBV75q6ACt"
   },
   "source": [
    "## Imports"
   ]
  },
  {
   "cell_type": "code",
   "execution_count": 1,
   "metadata": {
    "executionInfo": {
     "elapsed": 1751,
     "status": "ok",
     "timestamp": 1716163402320,
     "user": {
      "displayName": "Jwalin Bhatt",
      "userId": "02326486344864208935"
     },
     "user_tz": -120
    },
    "id": "NXfPvkC1H47L"
   },
   "outputs": [],
   "source": [
    "import random\n",
    "import numpy as np\n",
    "import matplotlib.pyplot as plt\n",
    "\n",
    "from mpmath import mp\n",
    "from scipy import stats\n",
    "from tqdm.auto import tqdm\n",
    "from matplotlib import animation"
   ]
  },
  {
   "cell_type": "code",
   "execution_count": 2,
   "metadata": {
    "executionInfo": {
     "elapsed": 3,
     "status": "ok",
     "timestamp": 1716163402321,
     "user": {
      "displayName": "Jwalin Bhatt",
      "userId": "02326486344864208935"
     },
     "user_tz": -120
    },
    "id": "Uy7IKdwj59rn"
   },
   "outputs": [],
   "source": [
    "plt.style.use('dark_background')"
   ]
  },
  {
   "cell_type": "code",
   "execution_count": 3,
   "metadata": {
    "executionInfo": {
     "elapsed": 486,
     "status": "ok",
     "timestamp": 1716163402805,
     "user": {
      "displayName": "Jwalin Bhatt",
      "userId": "02326486344864208935"
     },
     "user_tz": -120
    },
    "id": "tUvDw690IA8v"
   },
   "outputs": [],
   "source": [
    "mp.dps = 501\n",
    "K = +mp.khinchin\n",
    "tau = 2 * +mp.pi\n",
    "\n",
    "# print(tau)"
   ]
  },
  {
   "cell_type": "code",
   "execution_count": 4,
   "metadata": {
    "executionInfo": {
     "elapsed": 2,
     "status": "ok",
     "timestamp": 1716163402805,
     "user": {
      "displayName": "Jwalin Bhatt",
      "userId": "02326486344864208935"
     },
     "user_tz": -120
    },
    "id": "5AGmK69XI6B-"
   },
   "outputs": [],
   "source": [
    "import sys\n",
    "# Append parent dir to path, so that other modules can be imported.\n",
    "sys.path.append('../')"
   ]
  },
  {
   "cell_type": "code",
   "execution_count": 5,
   "metadata": {
    "executionInfo": {
     "elapsed": 772,
     "status": "ok",
     "timestamp": 1716163403576,
     "user": {
      "displayName": "Jwalin Bhatt",
      "userId": "02326486344864208935"
     },
     "user_tz": -120
    },
    "id": "Z14nD5zlJg08"
   },
   "outputs": [],
   "source": [
    "from CF_core import compute_cf, compute_num_from_cf"
   ]
  },
  {
   "cell_type": "code",
   "execution_count": 6,
   "metadata": {
    "colab": {
     "base_uri": "https://localhost:8080/"
    },
    "executionInfo": {
     "elapsed": 6,
     "status": "ok",
     "timestamp": 1716163403577,
     "user": {
      "displayName": "Jwalin Bhatt",
      "userId": "02326486344864208935"
     },
     "user_tz": -120
    },
    "id": "MrQISckIJLtG",
    "outputId": "b08ecab3-9fcc-4868-db10-25862e8acc89"
   },
   "outputs": [
    {
     "name": "stdout",
     "output_type": "stream",
     "text": [
      "err = 3.049438415300529e-110\n"
     ]
    }
   ],
   "source": [
    "coeffs = compute_cf(tau, 101)\n",
    "approx = compute_num_from_cf(coeffs)\n",
    "\n",
    "print(f'err = {float(abs(tau - approx))}')"
   ]
  },
  {
   "cell_type": "markdown",
   "metadata": {
    "id": "NF65uQB2APxu"
   },
   "source": [
    "## Khinchin's constant"
   ]
  },
  {
   "cell_type": "code",
   "execution_count": 7,
   "metadata": {
    "executionInfo": {
     "elapsed": 4,
     "status": "ok",
     "timestamp": 1716163403577,
     "user": {
      "displayName": "Jwalin Bhatt",
      "userId": "02326486344864208935"
     },
     "user_tz": -120
    },
    "id": "PMXh07duPl8M"
   },
   "outputs": [],
   "source": [
    "from CF_core import compute_cum_GM, compute_CF_GMs"
   ]
  },
  {
   "cell_type": "markdown",
   "metadata": {
    "id": "gXUf2AIGAVxY"
   },
   "source": [
    "Geometric mean of the terms of the continued fraction expansion.\n",
    "\n",
    "$$ \\lim_{n\\to\\infty} (a_1a_2...a_n)^\\frac{1}{n} = K_0 $$\n",
    "$$ K_0 = \\prod_{r=1}^{\\infty} \\left ( 1 + \\frac{1}{r(r+2)} \\right ) ^ {log_2{r}} = 2.6854520010653064... $$"
   ]
  },
  {
   "cell_type": "code",
   "execution_count": 8,
   "metadata": {
    "colab": {
     "base_uri": "https://localhost:8080/"
    },
    "executionInfo": {
     "elapsed": 4,
     "status": "ok",
     "timestamp": 1716163403577,
     "user": {
      "displayName": "Jwalin Bhatt",
      "userId": "02326486344864208935"
     },
     "user_tz": -120
    },
    "id": "tlBVMesIqyAG",
    "outputId": "3b0a2ab3-ce8a-4cab-a398-ef623ed9150f"
   },
   "outputs": [
    {
     "name": "stdout",
     "output_type": "stream",
     "text": [
      "approximation using explicit formula for K -> 2.6550043098492204\n",
      "err -> 0.030447691216086023\n",
      "\n",
      "approximation using GM of CF for a random number -> 2.6553571545778825\n",
      "err = 0.030094846487423985\n"
     ]
    }
   ],
   "source": [
    "# print(np.prod([(1+1/(r*(r+2)))**np.log2(r) for r in range(1, 10**5)]))\n",
    "r = np.arange(1, 10**3)\n",
    "approx = np.prod((1+1/(r*(r+2)))**np.log2(r))\n",
    "print(f'approximation using explicit formula for K -> {approx}')\n",
    "print(f'err -> {float(abs(K-approx))}', end='\\n\\n')\n",
    "\n",
    "approx = stats.gmean(compute_cf(mp.rand(), 1001)[1:])\n",
    "# approx = compute_cum_GM(compute_cf(mp.rand(), 1001)[1:])[-1]\n",
    "print(f'approximation using GM of CF for a random number -> {approx}')\n",
    "print(f'err = {float(abs(K-approx))}')"
   ]
  },
  {
   "cell_type": "markdown",
   "metadata": {
    "id": "jmPAgaahRQmB"
   },
   "source": [
    "Khinchin's constants:\n",
    "https://mathworld.wolfram.com/KhinchinHarmonicMean.html"
   ]
  },
  {
   "cell_type": "markdown",
   "metadata": {
    "id": "HVrjgcBWOazY"
   },
   "source": [
    "Given an arbitrary series $\\{a_n\\}$, the Hölder mean of order p of the series is given by\n",
    "\n",
    "$$ K_p = \\lim_{n\\to\\infty} \\left [ \\frac{1}{n} \\sum_{k=1}^n a_k^p \\right ]^\\frac{1}{p} $$\n",
    "\n",
    "$$ K_p = \\left [ \\sum_{k=1}^\\infty -k^p \\log_2 \\left ( 1 - \\frac{1}{(k+1)^2} \\right ) \\right ]^\\frac{1}{p} $$\n",
    "\n",
    "- $K_p$ = $+\\infty$ for $p \\geq 1$. \\\n",
    "- The value for $K_0$ is obtained in the limit of $p\\to 0$ which gives the geometric mean.\n",
    "- $K_0 = 2.6854520010653064...$\n",
    "- $K_{-1} = 1.7454056624073468...$\n",
    "- $K_{-\\infty} = min\\{a_1,a_2,...a_n\\} = 1$"
   ]
  },
  {
   "cell_type": "code",
   "execution_count": 9,
   "metadata": {
    "executionInfo": {
     "elapsed": 2061,
     "status": "ok",
     "timestamp": 1716163405635,
     "user": {
      "displayName": "Jwalin Bhatt",
      "userId": "02326486344864208935"
     },
     "user_tz": -120
    },
    "id": "5BUocjR4wFNt"
   },
   "outputs": [],
   "source": [
    "from modules.CF_utils import compute_khinchin_const"
   ]
  },
  {
   "cell_type": "code",
   "execution_count": 10,
   "metadata": {
    "colab": {
     "base_uri": "https://localhost:8080/"
    },
    "executionInfo": {
     "elapsed": 4,
     "status": "ok",
     "timestamp": 1716163405635,
     "user": {
      "displayName": "Jwalin Bhatt",
      "userId": "02326486344864208935"
     },
     "user_tz": -120
    },
    "id": "wJ2OQ5ORVbse",
    "outputId": "47de7568-196c-4bc0-9724-f6a399992aad"
   },
   "outputs": [
    {
     "name": "stdout",
     "output_type": "stream",
     "text": [
      "K_0 approximation using explicit formula -> 2.6484114454185788\n",
      "err = 0.03704055564672769\n",
      "approximation using Generalized Mean of CF for a random number -> 2.8137839422773854\n",
      "err = 0.12833194121207894\n",
      "\n",
      "K_-1 approximation using explicit formula -> 1.7454056626271006\n",
      "approximation using Generalized Mean of CF for a random number -> 1.7677851301630507\n"
     ]
    }
   ],
   "source": [
    "coeffs = compute_cf(mp.rand(), 1001)\n",
    "\n",
    "# K_0 is limit as `p` -> 0, but also increase `n` accordingly.\n",
    "approx = compute_khinchin_const(p=1e-3, n=10**5)\n",
    "print(f'K_0 approximation using explicit formula -> {approx}')\n",
    "print(f'err = {float(abs(K-approx))}')\n",
    "approx = stats.pmean(a=coeffs[1:], p=0)\n",
    "print(f'approximation using Generalized Mean of CF for a random number -> {approx}')\n",
    "print(f'err = {float(abs(K-approx))}', end='\\n\\n')\n",
    "\n",
    "approx = compute_khinchin_const(p=-1, n=10**5)\n",
    "print(f'K_-1 approximation using explicit formula -> {approx}')\n",
    "approx = stats.pmean(a=coeffs[1:], p=-1)\n",
    "print(f'approximation using Generalized Mean of CF for a random number -> {approx}')"
   ]
  },
  {
   "cell_type": "markdown",
   "metadata": {
    "id": "23BAImX6GhWQ"
   },
   "source": [
    "### Levy constant\n",
    "\n",
    "$n_{th}$ root of the denominator of the $n_{th}$ convergent of the continued fraction expansion.  \n",
    "\n",
    "$$ \\lim_{n\\to\\infty} {q_n}^\\frac{1}{n} = e^\\frac{\\tau^2}{48\\log2} = 3.2758229187218113... $$"
   ]
  },
  {
   "cell_type": "code",
   "execution_count": 11,
   "metadata": {
    "executionInfo": {
     "elapsed": 4,
     "status": "ok",
     "timestamp": 1716163405636,
     "user": {
      "displayName": "Jwalin Bhatt",
      "userId": "02326486344864208935"
     },
     "user_tz": -120
    },
    "id": "4lw1NKPhP-vj"
   },
   "outputs": [],
   "source": [
    "from CF_core import compute_convergents_from_cf"
   ]
  },
  {
   "cell_type": "code",
   "execution_count": 12,
   "metadata": {
    "colab": {
     "base_uri": "https://localhost:8080/"
    },
    "executionInfo": {
     "elapsed": 4,
     "status": "ok",
     "timestamp": 1716163405636,
     "user": {
      "displayName": "Jwalin Bhatt",
      "userId": "02326486344864208935"
     },
     "user_tz": -120
    },
    "id": "Vy66dnTk73_A",
    "outputId": "f8d5ff3e-df24-451a-d609-4ad10f82046e"
   },
   "outputs": [
    {
     "name": "stdout",
     "output_type": "stream",
     "text": [
      "approximation using a random number -> 3.1080012722651116\n",
      "err = 0.16782164645669972\n"
     ]
    }
   ],
   "source": [
    "x = mp.rand()\n",
    "last_convergent = compute_convergents_from_cf(\n",
    "    compute_cf(x, 1001)[1:], all_convergents=False)\n",
    "\n",
    "approx = float(last_convergent[1]**(1/(1000)))\n",
    "print(f'approximation using a random number -> {approx}')\n",
    "e_B = np.exp((np.pi**2)/(12*np.log(2)))\n",
    "print(f'err = {float(abs(e_B-approx))}')"
   ]
  },
  {
   "cell_type": "markdown",
   "metadata": {
    "id": "321ADWQbprTE"
   },
   "source": [
    "## Random numbers"
   ]
  },
  {
   "cell_type": "code",
   "execution_count": 13,
   "metadata": {
    "colab": {
     "base_uri": "https://localhost:8080/",
     "height": 124,
     "referenced_widgets": [
      "9b46d49e5e304da989c53358ef69006f",
      "aad0d5a23ad84a798fdaadf9d64cd72a",
      "ebe0aed855b0430097cc159b777d67a7",
      "96046cd9ad4d4b1fb90593848ab75326",
      "cc51e225b50e46bd92d70e82ef5e5b8b",
      "cc4e1a66e3534fecbccb177b33dd9d1f",
      "d86111488c464c3e89545bd94140ea3f",
      "eb54affae07a4cb09497543f8af496b5",
      "718d626a6a1f4376aa73d7823ab02bcb",
      "7ac406c603ff4707abac07054ee4a534",
      "c04e3701824d445f840a3469c13d5cfb"
     ]
    },
    "executionInfo": {
     "elapsed": 193773,
     "status": "ok",
     "timestamp": 1716163599407,
     "user": {
      "displayName": "Jwalin Bhatt",
      "userId": "02326486344864208935"
     },
     "user_tz": -120
    },
    "id": "RsO2vpHqANzh",
    "outputId": "75cdcede-068f-4504-d26a-22f61a62f271"
   },
   "outputs": [
    {
     "data": {
      "application/vnd.jupyter.widget-view+json": {
       "model_id": "8204a5bff85e4eb69876b24d5b67b516",
       "version_major": 2,
       "version_minor": 0
      },
      "text/plain": [
       "  0%|          | 0/1000 [00:00<?, ?it/s]"
      ]
     },
     "metadata": {},
     "output_type": "display_data"
    },
    {
     "name": "stdout",
     "output_type": "stream",
     "text": [
      "shape before interpolation\n",
      "(1000, 10000)\n",
      "shape after interpolation\n",
      "(1000, 1000)\n"
     ]
    }
   ],
   "source": [
    "num_lines, num_coeffs = 1000, 10000\n",
    "# Use mpmath to generate random numbers that maintain precision.\n",
    "random.seed(1)  # mpmath uses `random` module for its randomness.\n",
    "nums = sorted([mp.rand() for _ in range(num_lines)])\n",
    "mean_lines = []\n",
    "for num in tqdm(nums):\n",
    "  mean_lines.append(compute_CF_GMs(num, num_coeffs))\n",
    "mean_lines = np.array(mean_lines)\n",
    "print('shape before interpolation')\n",
    "print(mean_lines.shape)\n",
    "\n",
    "line_range = 1000\n",
    "line_x_points = np.linspace(1,num_coeffs+1, line_range, dtype=int)\n",
    "interp_func = lambda x: np.interp(line_x_points, np.arange(1, num_coeffs+1), x)\n",
    "mean_lines = np.apply_along_axis(interp_func, axis=1, arr=mean_lines)\n",
    "print('shape after interpolation')\n",
    "print(mean_lines.shape)\n",
    "\n",
    "avg_of_mean_lines = mean_lines.mean(axis=0)\n",
    "std_of_mean_lines = mean_lines.std(axis=0)"
   ]
  },
  {
   "cell_type": "markdown",
   "metadata": {
    "id": "3Vo_0VSrIUX7"
   },
   "source": [
    "Ideally the average of random nums between 0 and 1 would be 0.5 and its CF wont have the propert to converge."
   ]
  },
  {
   "cell_type": "code",
   "execution_count": 14,
   "metadata": {
    "colab": {
     "base_uri": "https://localhost:8080/",
     "height": 449
    },
    "executionInfo": {
     "elapsed": 528,
     "status": "ok",
     "timestamp": 1716163599931,
     "user": {
      "displayName": "Jwalin Bhatt",
      "userId": "02326486344864208935"
     },
     "user_tz": -120
    },
    "id": "6A7WppEyHrC9",
    "outputId": "033279e9-50ad-4beb-c60c-321f52569f1c"
   },
   "outputs": [
    {
     "name": "stdout",
     "output_type": "stream",
     "text": [
      "Mean of random nums: 0.4876638695601925\n"
     ]
    },
    {
     "data": {
      "image/png": "[encoded data removed]",
      "text/plain": [
       "<Figure size 640x480 with 1 Axes>"
      ]
     },
     "metadata": {},
     "output_type": "display_data"
    }
   ],
   "source": [
    "mean_num = np.mean(nums)\n",
    "print('Mean of random nums:',float(mean_num))\n",
    "mean_line = compute_CF_GMs(num, num_coeffs)\n",
    "plt.plot(line_x_points, np.interp(line_x_points, np.arange(1, num_coeffs+1), mean_line))\n",
    "plt.ylim(float(K)-0.5, float(K)+0.5)\n",
    "plt.axhline(K, color='r', linestyle='--', label=\"Khinchin's constant\")\n",
    "plt.legend()\n",
    "plt.show()"
   ]
  },
  {
   "cell_type": "code",
   "execution_count": 15,
   "metadata": {
    "colab": {
     "base_uri": "https://localhost:8080/"
    },
    "executionInfo": {
     "elapsed": 5,
     "status": "ok",
     "timestamp": 1716163599931,
     "user": {
      "displayName": "Jwalin Bhatt",
      "userId": "02326486344864208935"
     },
     "user_tz": -120
    },
    "id": "z6R9594nRCaJ",
    "outputId": "a946c164-a82f-4c3b-852f-6b4c618dc195"
   },
   "outputs": [
    {
     "name": "stdout",
     "output_type": "stream",
     "text": [
      "Error of the last point of the average line: 0.0005611431086844774\n",
      "Average error of the mean line: 0.007699367025750862\n"
     ]
    }
   ],
   "source": [
    "print('Error of the last point of the average line:', float(abs(K - avg_of_mean_lines[-1]))) # Error of last point\n",
    "print('Average error of the mean line:', float((abs(K - avg_of_mean_lines)).mean())) # Error of last point"
   ]
  },
  {
   "cell_type": "code",
   "execution_count": 21,
   "metadata": {
    "colab": {
     "base_uri": "https://localhost:8080/",
     "height": 430
    },
    "executionInfo": {
     "elapsed": 2866,
     "status": "ok",
     "timestamp": 1716163602794,
     "user": {
      "displayName": "Jwalin Bhatt",
      "userId": "02326486344864208935"
     },
     "user_tz": -120
    },
    "id": "YoM2JdRkQHHX",
    "outputId": "8b273cb4-9cea-4b0c-d8f9-d40c3b31f15a"
   },
   "outputs": [
    {
     "data": {
      "image/png": "[encoded data removed]",
      "text/plain": [
       "<Figure size 640x480 with 1 Axes>"
      ]
     },
     "metadata": {},
     "output_type": "display_data"
    }
   ],
   "source": [
    "# fig, ax = plt.subplots(figsize=(24,12))\n",
    "for mean_line in mean_lines:\n",
    "  plt.plot(line_x_points, mean_line, alpha=0.3)\n",
    "plt.plot(line_x_points, avg_of_mean_lines, c='k', linewidth=2)\n",
    "plt.axhline(K, color='r', linestyle='--', label=\"Khinchin's constant\")\n",
    "\n",
    "# Highlight the region within standard deviation by dimming the region outside of it.\n",
    "plt.gca().fill_between(line_x_points,\n",
    "                       avg_of_mean_lines - std_of_mean_lines,\n",
    "                       float(K)-0.5,\n",
    "                       color='k', alpha=0.2, zorder=2)\n",
    "plt.gca().fill_between(line_x_points,\n",
    "                       avg_of_mean_lines + std_of_mean_lines,\n",
    "                       float(K)+0.5,\n",
    "                       color='k', alpha=0.2, zorder=2)\n",
    "\n",
    "plt.ylim(float(K)-0.5, float(K)+0.5)\n",
    "plt.legend()\n",
    "plt.show()"
   ]
  },
  {
   "cell_type": "code",
   "execution_count": 18,
   "metadata": {
    "executionInfo": {
     "elapsed": 495,
     "status": "ok",
     "timestamp": 1716163603284,
     "user": {
      "displayName": "Jwalin Bhatt",
      "userId": "02326486344864208935"
     },
     "user_tz": -120
    },
    "id": "Il24P-oHBKk8"
   },
   "outputs": [],
   "source": [
    "from modules.visualize import animate_all_lines, animate_average_line, animate_line_by_line, save_anim"
   ]
  },
  {
   "cell_type": "markdown",
   "metadata": {
    "id": "gMrC___-CGx-"
   },
   "source": [
    "### Animate all lines"
   ]
  },
  {
   "cell_type": "code",
   "execution_count": null,
   "metadata": {
    "colab": {
     "base_uri": "https://localhost:8080/",
     "height": 49,
     "referenced_widgets": [
      "397d24c794f74e37bb84955e5ef8b540",
      "88c7a627239f477b97de0655c27eb84b",
      "824a6e1f57b64508ba6853d7e7f4d4b9",
      "1900db4a86c240f7a3d80a537d118749",
      "abd8dc881fd34895846e00e12ec401c6",
      "b3a8f67450784231b19942e82a525f3b",
      "c0ac426f838a4a1f8dce82383fec5080",
      "3605454a91634c599ad1f5ef917d2c7b",
      "12d4db39d89e474f93d0fcba29f1dcc4",
      "f305dd28fe144853b69b863ad0bd72f9",
      "021c15cb6f674126b09506328a516445"
     ]
    },
    "executionInfo": {
     "elapsed": 2785170,
     "status": "ok",
     "timestamp": 1715258303918,
     "user": {
      "displayName": "Jwalin Bhatt",
      "userId": "02326486344864208935"
     },
     "user_tz": -120
    },
    "id": "naHv898J22lg",
    "outputId": "193767ab-89d5-4313-eda2-62c7d41f5262"
   },
   "outputs": [
    {
     "data": {
      "application/vnd.jupyter.widget-view+json": {
       "model_id": "397d24c794f74e37bb84955e5ef8b540",
       "version_major": 2,
       "version_minor": 0
      },
      "text/plain": [
       "  0%|          | 1/1000 [00:00<?, ?it/s]"
      ]
     },
     "metadata": {},
     "output_type": "display_data"
    }
   ],
   "source": [
    "anim = animate_all_lines(line_x_points, mean_lines, vibrant=True)\n",
    "save_anim(anim, '../animations/light_wine_active.mp4')\n",
    "plt.close()"
   ]
  },
  {
   "cell_type": "markdown",
   "metadata": {
    "id": "Cytnk2NKCLDu"
   },
   "source": [
    "### Animate just the average line"
   ]
  },
  {
   "cell_type": "code",
   "execution_count": null,
   "metadata": {
    "colab": {
     "base_uri": "https://localhost:8080/",
     "height": 49,
     "referenced_widgets": [
      "abf36748bd7049ee9d3f1c2005d9d213",
      "65cb1b203e75487fb013614504bfd9ff",
      "7768d8605be74f049aa1d185995cb5ec",
      "5b974a3050fd4876957dc26bd31b4c92",
      "90427193c7474486850945e918a3c822",
      "b2c809ac05de4f21bd27010465e96975",
      "308b70519b244b0a9e2a4841270ddbc5",
      "eaf3a829c06f49ef8db5b5d786fcd557",
      "713153d9cb874490b542e55d1bea8215",
      "374e3fe60c554fd0b2f84f560b51cc0d",
      "9a8a7682291947269898fd1e0c2f68be"
     ]
    },
    "executionInfo": {
     "elapsed": 6624754,
     "status": "ok",
     "timestamp": 1715264928663,
     "user": {
      "displayName": "Jwalin Bhatt",
      "userId": "02326486344864208935"
     },
     "user_tz": -120
    },
    "id": "bGFugcvQ_n0Q",
    "outputId": "19bc4697-b39f-411d-f6c7-ad1d8799efd9"
   },
   "outputs": [
    {
     "data": {
      "application/vnd.jupyter.widget-view+json": {
       "model_id": "abf36748bd7049ee9d3f1c2005d9d213",
       "version_major": 2,
       "version_minor": 0
      },
      "text/plain": [
       "  0%|          | 1/1000 [00:00<?, ?it/s]"
      ]
     },
     "metadata": {},
     "output_type": "display_data"
    }
   ],
   "source": [
    "anim = animate_average_line(line_x_points, mean_lines)\n",
    "save_anim(anim, '../animations/light_wine_mean.mp4')\n",
    "plt.close()"
   ]
  },
  {
   "cell_type": "markdown",
   "metadata": {
    "id": "Uo2P7AnvbZIN"
   },
   "source": [
    "### Animate lines one by one"
   ]
  },
  {
   "cell_type": "code",
   "execution_count": 21,
   "metadata": {
    "colab": {
     "base_uri": "https://localhost:8080/",
     "height": 49,
     "referenced_widgets": [
      "0ec08f1634ac470f9a98b69f379f5864",
      "cd3ac58ec6a440c991e8b45065395427",
      "48d3c665ed6a48529d8394cc99052736",
      "cff26c60cba045e38e666a84bf9fae02",
      "fa47484390f340bab94fec6995ceee06",
      "54600222f88647a39fe3037921ec0505",
      "8c3a6c7b63044ea9ac6784b5ea765bd9",
      "835eed0dc3544317845f38463380dac6",
      "5509bbf031d9435a86ed570733abf859",
      "98f2511afd874e6b8e822c46d914445f",
      "fc09f1bf63e14855b2e9e37ebc62dbf6"
     ]
    },
    "executionInfo": {
     "elapsed": 593645,
     "status": "ok",
     "timestamp": 1716165673977,
     "user": {
      "displayName": "Jwalin Bhatt",
      "userId": "02326486344864208935"
     },
     "user_tz": -120
    },
    "id": "uOPlPdlvBGvg",
    "outputId": "dcf8ade7-1353-4d95-d294-4107867b1d4c"
   },
   "outputs": [
    {
     "data": {
      "application/vnd.jupyter.widget-view+json": {
       "model_id": "0ec08f1634ac470f9a98b69f379f5864",
       "version_major": 2,
       "version_minor": 0
      },
      "text/plain": [
       "  0%|          | 1/1178 [00:00<?, ?it/s]"
      ]
     },
     "metadata": {},
     "output_type": "display_data"
    }
   ],
   "source": [
    "anim = animate_line_by_line(nums, line_x_points, mean_lines)\n",
    "save_anim(anim, '../animations/current.mp4', fps=15)\n",
    "plt.close()"
   ]
  },
  {
   "cell_type": "code",
   "execution_count": null,
   "metadata": {
    "id": "eX8CnShkgUPl"
   },
   "outputs": [],
   "source": []
  }
 ],
 "metadata": {
  "colab": {
   "authorship_tag": "ABX9TyNUs0W4YUFMk1dal8r6Sm3u",
   "mount_file_id": "1msk2ZvNcoxN2TXDXBJSJEqd1iO6w_78J",
   "provenance": []
  },
  "kernelspec": {
   "display_name": "Python 3 (ipykernel)",
   "language": "python",
   "name": "python3"
  },
  "language_info": {
   "codemirror_mode": {
    "name": "ipython",
    "version": 3
   },
   "file_extension": ".py",
   "mimetype": "text/x-python",
   "name": "python",
   "nbconvert_exporter": "python",
   "pygments_lexer": "ipython3",
   "version": "3.11.7"
  },
  "widgets": {
   "application/vnd.jupyter.widget-state+json": {
    "021c15cb6f674126b09506328a516445": {
     "model_module": "@jupyter-widgets/controls",
     "model_module_version": "1.5.0",
     "model_name": "DescriptionStyleModel",
     "state": {
      "_model_module": "@jupyter-widgets/controls",
      "_model_module_version": "1.5.0",
      "_model_name": "DescriptionStyleModel",
      "_view_count": null,
      "_view_module": "@jupyter-widgets/base",
      "_view_module_version": "1.2.0",
      "_view_name": "StyleView",
      "description_width": ""
     }
    },
    "0ec08f1634ac470f9a98b69f379f5864": {
     "model_module": "@jupyter-widgets/controls",
     "model_module_version": "1.5.0",
     "model_name": "HBoxModel",
     "state": {
      "_dom_classes": [],
      "_model_module": "@jupyter-widgets/controls",
      "_model_module_version": "1.5.0",
      "_model_name": "HBoxModel",
      "_view_count": null,
      "_view_module": "@jupyter-widgets/controls",
      "_view_module_version": "1.5.0",
      "_view_name": "HBoxView",
      "box_style": "",
      "children": [
       "IPY_MODEL_cd3ac58ec6a440c991e8b45065395427",
       "IPY_MODEL_48d3c665ed6a48529d8394cc99052736",
       "IPY_MODEL_cff26c60cba045e38e666a84bf9fae02"
      ],
      "layout": "IPY_MODEL_fa47484390f340bab94fec6995ceee06"
     }
    },
    "12d4db39d89e474f93d0fcba29f1dcc4": {
     "model_module": "@jupyter-widgets/controls",
     "model_module_version": "1.5.0",
     "model_name": "ProgressStyleModel",
     "state": {
      "_model_module": "@jupyter-widgets/controls",
      "_model_module_version": "1.5.0",
      "_model_name": "ProgressStyleModel",
      "_view_count": null,
      "_view_module": "@jupyter-widgets/base",
      "_view_module_version": "1.2.0",
      "_view_name": "StyleView",
      "bar_color": null,
      "description_width": ""
     }
    },
    "1900db4a86c240f7a3d80a537d118749": {
     "model_module": "@jupyter-widgets/controls",
     "model_module_version": "1.5.0",
     "model_name": "HTMLModel",
     "state": {
      "_dom_classes": [],
      "_model_module": "@jupyter-widgets/controls",
      "_model_module_version": "1.5.0",
      "_model_name": "HTMLModel",
      "_view_count": null,
      "_view_module": "@jupyter-widgets/controls",
      "_view_module_version": "1.5.0",
      "_view_name": "HTMLView",
      "description": "",
      "description_tooltip": null,
      "layout": "IPY_MODEL_f305dd28fe144853b69b863ad0bd72f9",
      "placeholder": "​",
      "style": "IPY_MODEL_021c15cb6f674126b09506328a516445",
      "value": " 1000/1000 [2:41:06&lt;00:00,  3.93s/it]"
     }
    },
    "308b70519b244b0a9e2a4841270ddbc5": {
     "model_module": "@jupyter-widgets/controls",
     "model_module_version": "1.5.0",
     "model_name": "DescriptionStyleModel",
     "state": {
      "_model_module": "@jupyter-widgets/controls",
      "_model_module_version": "1.5.0",
      "_model_name": "DescriptionStyleModel",
      "_view_count": null,
      "_view_module": "@jupyter-widgets/base",
      "_view_module_version": "1.2.0",
      "_view_name": "StyleView",
      "description_width": ""
     }
    },
    "3605454a91634c599ad1f5ef917d2c7b": {
     "model_module": "@jupyter-widgets/base",
     "model_module_version": "1.2.0",
     "model_name": "LayoutModel",
     "state": {
      "_model_module": "@jupyter-widgets/base",
      "_model_module_version": "1.2.0",
      "_model_name": "LayoutModel",
      "_view_count": null,
      "_view_module": "@jupyter-widgets/base",
      "_view_module_version": "1.2.0",
      "_view_name": "LayoutView",
      "align_content": null,
      "align_items": null,
      "align_self": null,
      "border": null,
      "bottom": null,
      "display": null,
      "flex": null,
      "flex_flow": null,
      "grid_area": null,
      "grid_auto_columns": null,
      "grid_auto_flow": null,
      "grid_auto_rows": null,
      "grid_column": null,
      "grid_gap": null,
      "grid_row": null,
      "grid_template_areas": null,
      "grid_template_columns": null,
      "grid_template_rows": null,
      "height": null,
      "justify_content": null,
      "justify_items": null,
      "left": null,
      "margin": null,
      "max_height": null,
      "max_width": null,
      "min_height": null,
      "min_width": null,
      "object_fit": null,
      "object_position": null,
      "order": null,
      "overflow": null,
      "overflow_x": null,
      "overflow_y": null,
      "padding": null,
      "right": null,
      "top": null,
      "visibility": null,
      "width": null
     }
    },
    "374e3fe60c554fd0b2f84f560b51cc0d": {
     "model_module": "@jupyter-widgets/base",
     "model_module_version": "1.2.0",
     "model_name": "LayoutModel",
     "state": {
      "_model_module": "@jupyter-widgets/base",
      "_model_module_version": "1.2.0",
      "_model_name": "LayoutModel",
      "_view_count": null,
      "_view_module": "@jupyter-widgets/base",
      "_view_module_version": "1.2.0",
      "_view_name": "LayoutView",
      "align_content": null,
      "align_items": null,
      "align_self": null,
      "border": null,
      "bottom": null,
      "display": null,
      "flex": null,
      "flex_flow": null,
      "grid_area": null,
      "grid_auto_columns": null,
      "grid_auto_flow": null,
      "grid_auto_rows": null,
      "grid_column": null,
      "grid_gap": null,
      "grid_row": null,
      "grid_template_areas": null,
      "grid_template_columns": null,
      "grid_template_rows": null,
      "height": null,
      "justify_content": null,
      "justify_items": null,
      "left": null,
      "margin": null,
      "max_height": null,
      "max_width": null,
      "min_height": null,
      "min_width": null,
      "object_fit": null,
      "object_position": null,
      "order": null,
      "overflow": null,
      "overflow_x": null,
      "overflow_y": null,
      "padding": null,
      "right": null,
      "top": null,
      "visibility": null,
      "width": null
     }
    },
    "397d24c794f74e37bb84955e5ef8b540": {
     "model_module": "@jupyter-widgets/controls",
     "model_module_version": "1.5.0",
     "model_name": "HBoxModel",
     "state": {
      "_dom_classes": [],
      "_model_module": "@jupyter-widgets/controls",
      "_model_module_version": "1.5.0",
      "_model_name": "HBoxModel",
      "_view_count": null,
      "_view_module": "@jupyter-widgets/controls",
      "_view_module_version": "1.5.0",
      "_view_name": "HBoxView",
      "box_style": "",
      "children": [
       "IPY_MODEL_88c7a627239f477b97de0655c27eb84b",
       "IPY_MODEL_824a6e1f57b64508ba6853d7e7f4d4b9",
       "IPY_MODEL_1900db4a86c240f7a3d80a537d118749"
      ],
      "layout": "IPY_MODEL_abd8dc881fd34895846e00e12ec401c6"
     }
    },
    "48d3c665ed6a48529d8394cc99052736": {
     "model_module": "@jupyter-widgets/controls",
     "model_module_version": "1.5.0",
     "model_name": "FloatProgressModel",
     "state": {
      "_dom_classes": [],
      "_model_module": "@jupyter-widgets/controls",
      "_model_module_version": "1.5.0",
      "_model_name": "FloatProgressModel",
      "_view_count": null,
      "_view_module": "@jupyter-widgets/controls",
      "_view_module_version": "1.5.0",
      "_view_name": "ProgressView",
      "bar_style": "",
      "description": "",
      "description_tooltip": null,
      "layout": "IPY_MODEL_835eed0dc3544317845f38463380dac6",
      "max": 1178,
      "min": 0,
      "orientation": "horizontal",
      "style": "IPY_MODEL_5509bbf031d9435a86ed570733abf859",
      "value": 1178
     }
    },
    "54600222f88647a39fe3037921ec0505": {
     "model_module": "@jupyter-widgets/base",
     "model_module_version": "1.2.0",
     "model_name": "LayoutModel",
     "state": {
      "_model_module": "@jupyter-widgets/base",
      "_model_module_version": "1.2.0",
      "_model_name": "LayoutModel",
      "_view_count": null,
      "_view_module": "@jupyter-widgets/base",
      "_view_module_version": "1.2.0",
      "_view_name": "LayoutView",
      "align_content": null,
      "align_items": null,
      "align_self": null,
      "border": null,
      "bottom": null,
      "display": null,
      "flex": null,
      "flex_flow": null,
      "grid_area": null,
      "grid_auto_columns": null,
      "grid_auto_flow": null,
      "grid_auto_rows": null,
      "grid_column": null,
      "grid_gap": null,
      "grid_row": null,
      "grid_template_areas": null,
      "grid_template_columns": null,
      "grid_template_rows": null,
      "height": null,
      "justify_content": null,
      "justify_items": null,
      "left": null,
      "margin": null,
      "max_height": null,
      "max_width": null,
      "min_height": null,
      "min_width": null,
      "object_fit": null,
      "object_position": null,
      "order": null,
      "overflow": null,
      "overflow_x": null,
      "overflow_y": null,
      "padding": null,
      "right": null,
      "top": null,
      "visibility": null,
      "width": null
     }
    },
    "5509bbf031d9435a86ed570733abf859": {
     "model_module": "@jupyter-widgets/controls",
     "model_module_version": "1.5.0",
     "model_name": "ProgressStyleModel",
     "state": {
      "_model_module": "@jupyter-widgets/controls",
      "_model_module_version": "1.5.0",
      "_model_name": "ProgressStyleModel",
      "_view_count": null,
      "_view_module": "@jupyter-widgets/base",
      "_view_module_version": "1.2.0",
      "_view_name": "StyleView",
      "bar_color": null,
      "description_width": ""
     }
    },
    "5b974a3050fd4876957dc26bd31b4c92": {
     "model_module": "@jupyter-widgets/controls",
     "model_module_version": "1.5.0",
     "model_name": "HTMLModel",
     "state": {
      "_dom_classes": [],
      "_model_module": "@jupyter-widgets/controls",
      "_model_module_version": "1.5.0",
      "_model_name": "HTMLModel",
      "_view_count": null,
      "_view_module": "@jupyter-widgets/controls",
      "_view_module_version": "1.5.0",
      "_view_name": "HTMLView",
      "description": "",
      "description_tooltip": null,
      "layout": "IPY_MODEL_374e3fe60c554fd0b2f84f560b51cc0d",
      "placeholder": "​",
      "style": "IPY_MODEL_9a8a7682291947269898fd1e0c2f68be",
      "value": " 1000/1000 [1:54:40&lt;00:00,  6.96s/it]"
     }
    },
    "65cb1b203e75487fb013614504bfd9ff": {
     "model_module": "@jupyter-widgets/controls",
     "model_module_version": "1.5.0",
     "model_name": "HTMLModel",
     "state": {
      "_dom_classes": [],
      "_model_module": "@jupyter-widgets/controls",
      "_model_module_version": "1.5.0",
      "_model_name": "HTMLModel",
      "_view_count": null,
      "_view_module": "@jupyter-widgets/controls",
      "_view_module_version": "1.5.0",
      "_view_name": "HTMLView",
      "description": "",
      "description_tooltip": null,
      "layout": "IPY_MODEL_b2c809ac05de4f21bd27010465e96975",
      "placeholder": "​",
      "style": "IPY_MODEL_308b70519b244b0a9e2a4841270ddbc5",
      "value": "100%"
     }
    },
    "713153d9cb874490b542e55d1bea8215": {
     "model_module": "@jupyter-widgets/controls",
     "model_module_version": "1.5.0",
     "model_name": "ProgressStyleModel",
     "state": {
      "_model_module": "@jupyter-widgets/controls",
      "_model_module_version": "1.5.0",
      "_model_name": "ProgressStyleModel",
      "_view_count": null,
      "_view_module": "@jupyter-widgets/base",
      "_view_module_version": "1.2.0",
      "_view_name": "StyleView",
      "bar_color": null,
      "description_width": ""
     }
    },
    "718d626a6a1f4376aa73d7823ab02bcb": {
     "model_module": "@jupyter-widgets/controls",
     "model_module_version": "1.5.0",
     "model_name": "ProgressStyleModel",
     "state": {
      "_model_module": "@jupyter-widgets/controls",
      "_model_module_version": "1.5.0",
      "_model_name": "ProgressStyleModel",
      "_view_count": null,
      "_view_module": "@jupyter-widgets/base",
      "_view_module_version": "1.2.0",
      "_view_name": "StyleView",
      "bar_color": null,
      "description_width": ""
     }
    },
    "7768d8605be74f049aa1d185995cb5ec": {
     "model_module": "@jupyter-widgets/controls",
     "model_module_version": "1.5.0",
     "model_name": "FloatProgressModel",
     "state": {
      "_dom_classes": [],
      "_model_module": "@jupyter-widgets/controls",
      "_model_module_version": "1.5.0",
      "_model_name": "FloatProgressModel",
      "_view_count": null,
      "_view_module": "@jupyter-widgets/controls",
      "_view_module_version": "1.5.0",
      "_view_name": "ProgressView",
      "bar_style": "danger",
      "description": "",
      "description_tooltip": null,
      "layout": "IPY_MODEL_eaf3a829c06f49ef8db5b5d786fcd557",
      "max": 1000,
      "min": 0,
      "orientation": "horizontal",
      "style": "IPY_MODEL_713153d9cb874490b542e55d1bea8215",
      "value": 1000
     }
    },
    "7ac406c603ff4707abac07054ee4a534": {
     "model_module": "@jupyter-widgets/base",
     "model_module_version": "1.2.0",
     "model_name": "LayoutModel",
     "state": {
      "_model_module": "@jupyter-widgets/base",
      "_model_module_version": "1.2.0",
      "_model_name": "LayoutModel",
      "_view_count": null,
      "_view_module": "@jupyter-widgets/base",
      "_view_module_version": "1.2.0",
      "_view_name": "LayoutView",
      "align_content": null,
      "align_items": null,
      "align_self": null,
      "border": null,
      "bottom": null,
      "display": null,
      "flex": null,
      "flex_flow": null,
      "grid_area": null,
      "grid_auto_columns": null,
      "grid_auto_flow": null,
      "grid_auto_rows": null,
      "grid_column": null,
      "grid_gap": null,
      "grid_row": null,
      "grid_template_areas": null,
      "grid_template_columns": null,
      "grid_template_rows": null,
      "height": null,
      "justify_content": null,
      "justify_items": null,
      "left": null,
      "margin": null,
      "max_height": null,
      "max_width": null,
      "min_height": null,
      "min_width": null,
      "object_fit": null,
      "object_position": null,
      "order": null,
      "overflow": null,
      "overflow_x": null,
      "overflow_y": null,
      "padding": null,
      "right": null,
      "top": null,
      "visibility": null,
      "width": null
     }
    },
    "824a6e1f57b64508ba6853d7e7f4d4b9": {
     "model_module": "@jupyter-widgets/controls",
     "model_module_version": "1.5.0",
     "model_name": "FloatProgressModel",
     "state": {
      "_dom_classes": [],
      "_model_module": "@jupyter-widgets/controls",
      "_model_module_version": "1.5.0",
      "_model_name": "FloatProgressModel",
      "_view_count": null,
      "_view_module": "@jupyter-widgets/controls",
      "_view_module_version": "1.5.0",
      "_view_name": "ProgressView",
      "bar_style": "danger",
      "description": "",
      "description_tooltip": null,
      "layout": "IPY_MODEL_3605454a91634c599ad1f5ef917d2c7b",
      "max": 1000,
      "min": 0,
      "orientation": "horizontal",
      "style": "IPY_MODEL_12d4db39d89e474f93d0fcba29f1dcc4",
      "value": 1000
     }
    },
    "835eed0dc3544317845f38463380dac6": {
     "model_module": "@jupyter-widgets/base",
     "model_module_version": "1.2.0",
     "model_name": "LayoutModel",
     "state": {
      "_model_module": "@jupyter-widgets/base",
      "_model_module_version": "1.2.0",
      "_model_name": "LayoutModel",
      "_view_count": null,
      "_view_module": "@jupyter-widgets/base",
      "_view_module_version": "1.2.0",
      "_view_name": "LayoutView",
      "align_content": null,
      "align_items": null,
      "align_self": null,
      "border": null,
      "bottom": null,
      "display": null,
      "flex": null,
      "flex_flow": null,
      "grid_area": null,
      "grid_auto_columns": null,
      "grid_auto_flow": null,
      "grid_auto_rows": null,
      "grid_column": null,
      "grid_gap": null,
      "grid_row": null,
      "grid_template_areas": null,
      "grid_template_columns": null,
      "grid_template_rows": null,
      "height": null,
      "justify_content": null,
      "justify_items": null,
      "left": null,
      "margin": null,
      "max_height": null,
      "max_width": null,
      "min_height": null,
      "min_width": null,
      "object_fit": null,
      "object_position": null,
      "order": null,
      "overflow": null,
      "overflow_x": null,
      "overflow_y": null,
      "padding": null,
      "right": null,
      "top": null,
      "visibility": null,
      "width": null
     }
    },
    "88c7a627239f477b97de0655c27eb84b": {
     "model_module": "@jupyter-widgets/controls",
     "model_module_version": "1.5.0",
     "model_name": "HTMLModel",
     "state": {
      "_dom_classes": [],
      "_model_module": "@jupyter-widgets/controls",
      "_model_module_version": "1.5.0",
      "_model_name": "HTMLModel",
      "_view_count": null,
      "_view_module": "@jupyter-widgets/controls",
      "_view_module_version": "1.5.0",
      "_view_name": "HTMLView",
      "description": "",
      "description_tooltip": null,
      "layout": "IPY_MODEL_b3a8f67450784231b19942e82a525f3b",
      "placeholder": "​",
      "style": "IPY_MODEL_c0ac426f838a4a1f8dce82383fec5080",
      "value": "100%"
     }
    },
    "8c3a6c7b63044ea9ac6784b5ea765bd9": {
     "model_module": "@jupyter-widgets/controls",
     "model_module_version": "1.5.0",
     "model_name": "DescriptionStyleModel",
     "state": {
      "_model_module": "@jupyter-widgets/controls",
      "_model_module_version": "1.5.0",
      "_model_name": "DescriptionStyleModel",
      "_view_count": null,
      "_view_module": "@jupyter-widgets/base",
      "_view_module_version": "1.2.0",
      "_view_name": "StyleView",
      "description_width": ""
     }
    },
    "90427193c7474486850945e918a3c822": {
     "model_module": "@jupyter-widgets/base",
     "model_module_version": "1.2.0",
     "model_name": "LayoutModel",
     "state": {
      "_model_module": "@jupyter-widgets/base",
      "_model_module_version": "1.2.0",
      "_model_name": "LayoutModel",
      "_view_count": null,
      "_view_module": "@jupyter-widgets/base",
      "_view_module_version": "1.2.0",
      "_view_name": "LayoutView",
      "align_content": null,
      "align_items": null,
      "align_self": null,
      "border": null,
      "bottom": null,
      "display": null,
      "flex": null,
      "flex_flow": null,
      "grid_area": null,
      "grid_auto_columns": null,
      "grid_auto_flow": null,
      "grid_auto_rows": null,
      "grid_column": null,
      "grid_gap": null,
      "grid_row": null,
      "grid_template_areas": null,
      "grid_template_columns": null,
      "grid_template_rows": null,
      "height": null,
      "justify_content": null,
      "justify_items": null,
      "left": null,
      "margin": null,
      "max_height": null,
      "max_width": null,
      "min_height": null,
      "min_width": null,
      "object_fit": null,
      "object_position": null,
      "order": null,
      "overflow": null,
      "overflow_x": null,
      "overflow_y": null,
      "padding": null,
      "right": null,
      "top": null,
      "visibility": null,
      "width": null
     }
    },
    "96046cd9ad4d4b1fb90593848ab75326": {
     "model_module": "@jupyter-widgets/controls",
     "model_module_version": "1.5.0",
     "model_name": "HTMLModel",
     "state": {
      "_dom_classes": [],
      "_model_module": "@jupyter-widgets/controls",
      "_model_module_version": "1.5.0",
      "_model_name": "HTMLModel",
      "_view_count": null,
      "_view_module": "@jupyter-widgets/controls",
      "_view_module_version": "1.5.0",
      "_view_name": "HTMLView",
      "description": "",
      "description_tooltip": null,
      "layout": "IPY_MODEL_7ac406c603ff4707abac07054ee4a534",
      "placeholder": "​",
      "style": "IPY_MODEL_c04e3701824d445f840a3469c13d5cfb",
      "value": " 1000/1000 [03:13&lt;00:00,  6.14it/s]"
     }
    },
    "98f2511afd874e6b8e822c46d914445f": {
     "model_module": "@jupyter-widgets/base",
     "model_module_version": "1.2.0",
     "model_name": "LayoutModel",
     "state": {
      "_model_module": "@jupyter-widgets/base",
      "_model_module_version": "1.2.0",
      "_model_name": "LayoutModel",
      "_view_count": null,
      "_view_module": "@jupyter-widgets/base",
      "_view_module_version": "1.2.0",
      "_view_name": "LayoutView",
      "align_content": null,
      "align_items": null,
      "align_self": null,
      "border": null,
      "bottom": null,
      "display": null,
      "flex": null,
      "flex_flow": null,
      "grid_area": null,
      "grid_auto_columns": null,
      "grid_auto_flow": null,
      "grid_auto_rows": null,
      "grid_column": null,
      "grid_gap": null,
      "grid_row": null,
      "grid_template_areas": null,
      "grid_template_columns": null,
      "grid_template_rows": null,
      "height": null,
      "justify_content": null,
      "justify_items": null,
      "left": null,
      "margin": null,
      "max_height": null,
      "max_width": null,
      "min_height": null,
      "min_width": null,
      "object_fit": null,
      "object_position": null,
      "order": null,
      "overflow": null,
      "overflow_x": null,
      "overflow_y": null,
      "padding": null,
      "right": null,
      "top": null,
      "visibility": null,
      "width": null
     }
    },
    "9a8a7682291947269898fd1e0c2f68be": {
     "model_module": "@jupyter-widgets/controls",
     "model_module_version": "1.5.0",
     "model_name": "DescriptionStyleModel",
     "state": {
      "_model_module": "@jupyter-widgets/controls",
      "_model_module_version": "1.5.0",
      "_model_name": "DescriptionStyleModel",
      "_view_count": null,
      "_view_module": "@jupyter-widgets/base",
      "_view_module_version": "1.2.0",
      "_view_name": "StyleView",
      "description_width": ""
     }
    },
    "9b46d49e5e304da989c53358ef69006f": {
     "model_module": "@jupyter-widgets/controls",
     "model_module_version": "1.5.0",
     "model_name": "HBoxModel",
     "state": {
      "_dom_classes": [],
      "_model_module": "@jupyter-widgets/controls",
      "_model_module_version": "1.5.0",
      "_model_name": "HBoxModel",
      "_view_count": null,
      "_view_module": "@jupyter-widgets/controls",
      "_view_module_version": "1.5.0",
      "_view_name": "HBoxView",
      "box_style": "",
      "children": [
       "IPY_MODEL_aad0d5a23ad84a798fdaadf9d64cd72a",
       "IPY_MODEL_ebe0aed855b0430097cc159b777d67a7",
       "IPY_MODEL_96046cd9ad4d4b1fb90593848ab75326"
      ],
      "layout": "IPY_MODEL_cc51e225b50e46bd92d70e82ef5e5b8b"
     }
    },
    "aad0d5a23ad84a798fdaadf9d64cd72a": {
     "model_module": "@jupyter-widgets/controls",
     "model_module_version": "1.5.0",
     "model_name": "HTMLModel",
     "state": {
      "_dom_classes": [],
      "_model_module": "@jupyter-widgets/controls",
      "_model_module_version": "1.5.0",
      "_model_name": "HTMLModel",
      "_view_count": null,
      "_view_module": "@jupyter-widgets/controls",
      "_view_module_version": "1.5.0",
      "_view_name": "HTMLView",
      "description": "",
      "description_tooltip": null,
      "layout": "IPY_MODEL_cc4e1a66e3534fecbccb177b33dd9d1f",
      "placeholder": "​",
      "style": "IPY_MODEL_d86111488c464c3e89545bd94140ea3f",
      "value": "100%"
     }
    },
    "abd8dc881fd34895846e00e12ec401c6": {
     "model_module": "@jupyter-widgets/base",
     "model_module_version": "1.2.0",
     "model_name": "LayoutModel",
     "state": {
      "_model_module": "@jupyter-widgets/base",
      "_model_module_version": "1.2.0",
      "_model_name": "LayoutModel",
      "_view_count": null,
      "_view_module": "@jupyter-widgets/base",
      "_view_module_version": "1.2.0",
      "_view_name": "LayoutView",
      "align_content": null,
      "align_items": null,
      "align_self": null,
      "border": null,
      "bottom": null,
      "display": null,
      "flex": null,
      "flex_flow": null,
      "grid_area": null,
      "grid_auto_columns": null,
      "grid_auto_flow": null,
      "grid_auto_rows": null,
      "grid_column": null,
      "grid_gap": null,
      "grid_row": null,
      "grid_template_areas": null,
      "grid_template_columns": null,
      "grid_template_rows": null,
      "height": null,
      "justify_content": null,
      "justify_items": null,
      "left": null,
      "margin": null,
      "max_height": null,
      "max_width": null,
      "min_height": null,
      "min_width": null,
      "object_fit": null,
      "object_position": null,
      "order": null,
      "overflow": null,
      "overflow_x": null,
      "overflow_y": null,
      "padding": null,
      "right": null,
      "top": null,
      "visibility": null,
      "width": null
     }
    },
    "abf36748bd7049ee9d3f1c2005d9d213": {
     "model_module": "@jupyter-widgets/controls",
     "model_module_version": "1.5.0",
     "model_name": "HBoxModel",
     "state": {
      "_dom_classes": [],
      "_model_module": "@jupyter-widgets/controls",
      "_model_module_version": "1.5.0",
      "_model_name": "HBoxModel",
      "_view_count": null,
      "_view_module": "@jupyter-widgets/controls",
      "_view_module_version": "1.5.0",
      "_view_name": "HBoxView",
      "box_style": "",
      "children": [
       "IPY_MODEL_65cb1b203e75487fb013614504bfd9ff",
       "IPY_MODEL_7768d8605be74f049aa1d185995cb5ec",
       "IPY_MODEL_5b974a3050fd4876957dc26bd31b4c92"
      ],
      "layout": "IPY_MODEL_90427193c7474486850945e918a3c822"
     }
    },
    "b2c809ac05de4f21bd27010465e96975": {
     "model_module": "@jupyter-widgets/base",
     "model_module_version": "1.2.0",
     "model_name": "LayoutModel",
     "state": {
      "_model_module": "@jupyter-widgets/base",
      "_model_module_version": "1.2.0",
      "_model_name": "LayoutModel",
      "_view_count": null,
      "_view_module": "@jupyter-widgets/base",
      "_view_module_version": "1.2.0",
      "_view_name": "LayoutView",
      "align_content": null,
      "align_items": null,
      "align_self": null,
      "border": null,
      "bottom": null,
      "display": null,
      "flex": null,
      "flex_flow": null,
      "grid_area": null,
      "grid_auto_columns": null,
      "grid_auto_flow": null,
      "grid_auto_rows": null,
      "grid_column": null,
      "grid_gap": null,
      "grid_row": null,
      "grid_template_areas": null,
      "grid_template_columns": null,
      "grid_template_rows": null,
      "height": null,
      "justify_content": null,
      "justify_items": null,
      "left": null,
      "margin": null,
      "max_height": null,
      "max_width": null,
      "min_height": null,
      "min_width": null,
      "object_fit": null,
      "object_position": null,
      "order": null,
      "overflow": null,
      "overflow_x": null,
      "overflow_y": null,
      "padding": null,
      "right": null,
      "top": null,
      "visibility": null,
      "width": null
     }
    },
    "b3a8f67450784231b19942e82a525f3b": {
     "model_module": "@jupyter-widgets/base",
     "model_module_version": "1.2.0",
     "model_name": "LayoutModel",
     "state": {
      "_model_module": "@jupyter-widgets/base",
      "_model_module_version": "1.2.0",
      "_model_name": "LayoutModel",
      "_view_count": null,
      "_view_module": "@jupyter-widgets/base",
      "_view_module_version": "1.2.0",
      "_view_name": "LayoutView",
      "align_content": null,
      "align_items": null,
      "align_self": null,
      "border": null,
      "bottom": null,
      "display": null,
      "flex": null,
      "flex_flow": null,
      "grid_area": null,
      "grid_auto_columns": null,
      "grid_auto_flow": null,
      "grid_auto_rows": null,
      "grid_column": null,
      "grid_gap": null,
      "grid_row": null,
      "grid_template_areas": null,
      "grid_template_columns": null,
      "grid_template_rows": null,
      "height": null,
      "justify_content": null,
      "justify_items": null,
      "left": null,
      "margin": null,
      "max_height": null,
      "max_width": null,
      "min_height": null,
      "min_width": null,
      "object_fit": null,
      "object_position": null,
      "order": null,
      "overflow": null,
      "overflow_x": null,
      "overflow_y": null,
      "padding": null,
      "right": null,
      "top": null,
      "visibility": null,
      "width": null
     }
    },
    "c04e3701824d445f840a3469c13d5cfb": {
     "model_module": "@jupyter-widgets/controls",
     "model_module_version": "1.5.0",
     "model_name": "DescriptionStyleModel",
     "state": {
      "_model_module": "@jupyter-widgets/controls",
      "_model_module_version": "1.5.0",
      "_model_name": "DescriptionStyleModel",
      "_view_count": null,
      "_view_module": "@jupyter-widgets/base",
      "_view_module_version": "1.2.0",
      "_view_name": "StyleView",
      "description_width": ""
     }
    },
    "c0ac426f838a4a1f8dce82383fec5080": {
     "model_module": "@jupyter-widgets/controls",
     "model_module_version": "1.5.0",
     "model_name": "DescriptionStyleModel",
     "state": {
      "_model_module": "@jupyter-widgets/controls",
      "_model_module_version": "1.5.0",
      "_model_name": "DescriptionStyleModel",
      "_view_count": null,
      "_view_module": "@jupyter-widgets/base",
      "_view_module_version": "1.2.0",
      "_view_name": "StyleView",
      "description_width": ""
     }
    },
    "cc4e1a66e3534fecbccb177b33dd9d1f": {
     "model_module": "@jupyter-widgets/base",
     "model_module_version": "1.2.0",
     "model_name": "LayoutModel",
     "state": {
      "_model_module": "@jupyter-widgets/base",
      "_model_module_version": "1.2.0",
      "_model_name": "LayoutModel",
      "_view_count": null,
      "_view_module": "@jupyter-widgets/base",
      "_view_module_version": "1.2.0",
      "_view_name": "LayoutView",
      "align_content": null,
      "align_items": null,
      "align_self": null,
      "border": null,
      "bottom": null,
      "display": null,
      "flex": null,
      "flex_flow": null,
      "grid_area": null,
      "grid_auto_columns": null,
      "grid_auto_flow": null,
      "grid_auto_rows": null,
      "grid_column": null,
      "grid_gap": null,
      "grid_row": null,
      "grid_template_areas": null,
      "grid_template_columns": null,
      "grid_template_rows": null,
      "height": null,
      "justify_content": null,
      "justify_items": null,
      "left": null,
      "margin": null,
      "max_height": null,
      "max_width": null,
      "min_height": null,
      "min_width": null,
      "object_fit": null,
      "object_position": null,
      "order": null,
      "overflow": null,
      "overflow_x": null,
      "overflow_y": null,
      "padding": null,
      "right": null,
      "top": null,
      "visibility": null,
      "width": null
     }
    },
    "cc51e225b50e46bd92d70e82ef5e5b8b": {
     "model_module": "@jupyter-widgets/base",
     "model_module_version": "1.2.0",
     "model_name": "LayoutModel",
     "state": {
      "_model_module": "@jupyter-widgets/base",
      "_model_module_version": "1.2.0",
      "_model_name": "LayoutModel",
      "_view_count": null,
      "_view_module": "@jupyter-widgets/base",
      "_view_module_version": "1.2.0",
      "_view_name": "LayoutView",
      "align_content": null,
      "align_items": null,
      "align_self": null,
      "border": null,
      "bottom": null,
      "display": null,
      "flex": null,
      "flex_flow": null,
      "grid_area": null,
      "grid_auto_columns": null,
      "grid_auto_flow": null,
      "grid_auto_rows": null,
      "grid_column": null,
      "grid_gap": null,
      "grid_row": null,
      "grid_template_areas": null,
      "grid_template_columns": null,
      "grid_template_rows": null,
      "height": null,
      "justify_content": null,
      "justify_items": null,
      "left": null,
      "margin": null,
      "max_height": null,
      "max_width": null,
      "min_height": null,
      "min_width": null,
      "object_fit": null,
      "object_position": null,
      "order": null,
      "overflow": null,
      "overflow_x": null,
      "overflow_y": null,
      "padding": null,
      "right": null,
      "top": null,
      "visibility": null,
      "width": null
     }
    },
    "cd3ac58ec6a440c991e8b45065395427": {
     "model_module": "@jupyter-widgets/controls",
     "model_module_version": "1.5.0",
     "model_name": "HTMLModel",
     "state": {
      "_dom_classes": [],
      "_model_module": "@jupyter-widgets/controls",
      "_model_module_version": "1.5.0",
      "_model_name": "HTMLModel",
      "_view_count": null,
      "_view_module": "@jupyter-widgets/controls",
      "_view_module_version": "1.5.0",
      "_view_name": "HTMLView",
      "description": "",
      "description_tooltip": null,
      "layout": "IPY_MODEL_54600222f88647a39fe3037921ec0505",
      "placeholder": "​",
      "style": "IPY_MODEL_8c3a6c7b63044ea9ac6784b5ea765bd9",
      "value": "100%"
     }
    },
    "cff26c60cba045e38e666a84bf9fae02": {
     "model_module": "@jupyter-widgets/controls",
     "model_module_version": "1.5.0",
     "model_name": "HTMLModel",
     "state": {
      "_dom_classes": [],
      "_model_module": "@jupyter-widgets/controls",
      "_model_module_version": "1.5.0",
      "_model_name": "HTMLModel",
      "_view_count": null,
      "_view_module": "@jupyter-widgets/controls",
      "_view_module_version": "1.5.0",
      "_view_name": "HTMLView",
      "description": "",
      "description_tooltip": null,
      "layout": "IPY_MODEL_98f2511afd874e6b8e822c46d914445f",
      "placeholder": "​",
      "style": "IPY_MODEL_fc09f1bf63e14855b2e9e37ebc62dbf6",
      "value": " 1178/1178 [32:34&lt;00:00,  2.88s/it]"
     }
    },
    "d86111488c464c3e89545bd94140ea3f": {
     "model_module": "@jupyter-widgets/controls",
     "model_module_version": "1.5.0",
     "model_name": "DescriptionStyleModel",
     "state": {
      "_model_module": "@jupyter-widgets/controls",
      "_model_module_version": "1.5.0",
      "_model_name": "DescriptionStyleModel",
      "_view_count": null,
      "_view_module": "@jupyter-widgets/base",
      "_view_module_version": "1.2.0",
      "_view_name": "StyleView",
      "description_width": ""
     }
    },
    "eaf3a829c06f49ef8db5b5d786fcd557": {
     "model_module": "@jupyter-widgets/base",
     "model_module_version": "1.2.0",
     "model_name": "LayoutModel",
     "state": {
      "_model_module": "@jupyter-widgets/base",
      "_model_module_version": "1.2.0",
      "_model_name": "LayoutModel",
      "_view_count": null,
      "_view_module": "@jupyter-widgets/base",
      "_view_module_version": "1.2.0",
      "_view_name": "LayoutView",
      "align_content": null,
      "align_items": null,
      "align_self": null,
      "border": null,
      "bottom": null,
      "display": null,
      "flex": null,
      "flex_flow": null,
      "grid_area": null,
      "grid_auto_columns": null,
      "grid_auto_flow": null,
      "grid_auto_rows": null,
      "grid_column": null,
      "grid_gap": null,
      "grid_row": null,
      "grid_template_areas": null,
      "grid_template_columns": null,
      "grid_template_rows": null,
      "height": null,
      "justify_content": null,
      "justify_items": null,
      "left": null,
      "margin": null,
      "max_height": null,
      "max_width": null,
      "min_height": null,
      "min_width": null,
      "object_fit": null,
      "object_position": null,
      "order": null,
      "overflow": null,
      "overflow_x": null,
      "overflow_y": null,
      "padding": null,
      "right": null,
      "top": null,
      "visibility": null,
      "width": null
     }
    },
    "eb54affae07a4cb09497543f8af496b5": {
     "model_module": "@jupyter-widgets/base",
     "model_module_version": "1.2.0",
     "model_name": "LayoutModel",
     "state": {
      "_model_module": "@jupyter-widgets/base",
      "_model_module_version": "1.2.0",
      "_model_name": "LayoutModel",
      "_view_count": null,
      "_view_module": "@jupyter-widgets/base",
      "_view_module_version": "1.2.0",
      "_view_name": "LayoutView",
      "align_content": null,
      "align_items": null,
      "align_self": null,
      "border": null,
      "bottom": null,
      "display": null,
      "flex": null,
      "flex_flow": null,
      "grid_area": null,
      "grid_auto_columns": null,
      "grid_auto_flow": null,
      "grid_auto_rows": null,
      "grid_column": null,
      "grid_gap": null,
      "grid_row": null,
      "grid_template_areas": null,
      "grid_template_columns": null,
      "grid_template_rows": null,
      "height": null,
      "justify_content": null,
      "justify_items": null,
      "left": null,
      "margin": null,
      "max_height": null,
      "max_width": null,
      "min_height": null,
      "min_width": null,
      "object_fit": null,
      "object_position": null,
      "order": null,
      "overflow": null,
      "overflow_x": null,
      "overflow_y": null,
      "padding": null,
      "right": null,
      "top": null,
      "visibility": null,
      "width": null
     }
    },
    "ebe0aed855b0430097cc159b777d67a7": {
     "model_module": "@jupyter-widgets/controls",
     "model_module_version": "1.5.0",
     "model_name": "FloatProgressModel",
     "state": {
      "_dom_classes": [],
      "_model_module": "@jupyter-widgets/controls",
      "_model_module_version": "1.5.0",
      "_model_name": "FloatProgressModel",
      "_view_count": null,
      "_view_module": "@jupyter-widgets/controls",
      "_view_module_version": "1.5.0",
      "_view_name": "ProgressView",
      "bar_style": "success",
      "description": "",
      "description_tooltip": null,
      "layout": "IPY_MODEL_eb54affae07a4cb09497543f8af496b5",
      "max": 1000,
      "min": 0,
      "orientation": "horizontal",
      "style": "IPY_MODEL_718d626a6a1f4376aa73d7823ab02bcb",
      "value": 1000
     }
    },
    "f305dd28fe144853b69b863ad0bd72f9": {
     "model_module": "@jupyter-widgets/base",
     "model_module_version": "1.2.0",
     "model_name": "LayoutModel",
     "state": {
      "_model_module": "@jupyter-widgets/base",
      "_model_module_version": "1.2.0",
      "_model_name": "LayoutModel",
      "_view_count": null,
      "_view_module": "@jupyter-widgets/base",
      "_view_module_version": "1.2.0",
      "_view_name": "LayoutView",
      "align_content": null,
      "align_items": null,
      "align_self": null,
      "border": null,
      "bottom": null,
      "display": null,
      "flex": null,
      "flex_flow": null,
      "grid_area": null,
      "grid_auto_columns": null,
      "grid_auto_flow": null,
      "grid_auto_rows": null,
      "grid_column": null,
      "grid_gap": null,
      "grid_row": null,
      "grid_template_areas": null,
      "grid_template_columns": null,
      "grid_template_rows": null,
      "height": null,
      "justify_content": null,
      "justify_items": null,
      "left": null,
      "margin": null,
      "max_height": null,
      "max_width": null,
      "min_height": null,
      "min_width": null,
      "object_fit": null,
      "object_position": null,
      "order": null,
      "overflow": null,
      "overflow_x": null,
      "overflow_y": null,
      "padding": null,
      "right": null,
      "top": null,
      "visibility": null,
      "width": null
     }
    },
    "fa47484390f340bab94fec6995ceee06": {
     "model_module": "@jupyter-widgets/base",
     "model_module_version": "1.2.0",
     "model_name": "LayoutModel",
     "state": {
      "_model_module": "@jupyter-widgets/base",
      "_model_module_version": "1.2.0",
      "_model_name": "LayoutModel",
      "_view_count": null,
      "_view_module": "@jupyter-widgets/base",
      "_view_module_version": "1.2.0",
      "_view_name": "LayoutView",
      "align_content": null,
      "align_items": null,
      "align_self": null,
      "border": null,
      "bottom": null,
      "display": null,
      "flex": null,
      "flex_flow": null,
      "grid_area": null,
      "grid_auto_columns": null,
      "grid_auto_flow": null,
      "grid_auto_rows": null,
      "grid_column": null,
      "grid_gap": null,
      "grid_row": null,
      "grid_template_areas": null,
      "grid_template_columns": null,
      "grid_template_rows": null,
      "height": null,
      "justify_content": null,
      "justify_items": null,
      "left": null,
      "margin": null,
      "max_height": null,
      "max_width": null,
      "min_height": null,
      "min_width": null,
      "object_fit": null,
      "object_position": null,
      "order": null,
      "overflow": null,
      "overflow_x": null,
      "overflow_y": null,
      "padding": null,
      "right": null,
      "top": null,
      "visibility": null,
      "width": null
     }
    },
    "fc09f1bf63e14855b2e9e37ebc62dbf6": {
     "model_module": "@jupyter-widgets/controls",
     "model_module_version": "1.5.0",
     "model_name": "DescriptionStyleModel",
     "state": {
      "_model_module": "@jupyter-widgets/controls",
      "_model_module_version": "1.5.0",
      "_model_name": "DescriptionStyleModel",
      "_view_count": null,
      "_view_module": "@jupyter-widgets/base",
      "_view_module_version": "1.2.0",
      "_view_name": "StyleView",
      "description_width": ""
     }
    }
   }
  }
 },
 "nbformat": 4,
 "nbformat_minor": 4
}
